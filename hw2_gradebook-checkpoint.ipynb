{
 "cells": [
  {
   "cell_type": "markdown",
   "id": "618efbc5-a4ef-474a-8fcb-b842912976d0",
   "metadata": {},
   "source": [
    "# 과제2: Gradebook"
   ]
  },
  {
   "cell_type": "code",
   "execution_count": 2,
   "id": "e5f2db66-265b-4835-88a3-e3e2a13c1d78",
   "metadata": {},
   "outputs": [],
   "source": [
    "#1\n",
    "subjects = [\"physics\", \"calculus\", \"poetry\", \"history\"]"
   ]
  },
  {
   "cell_type": "code",
   "execution_count": 4,
   "id": "e119adff-083a-4e4c-a18d-812e4a4dbd51",
   "metadata": {},
   "outputs": [],
   "source": [
    "#2\n",
    "grades = [98, 97, 85, 88]"
   ]
  },
  {
   "cell_type": "code",
   "execution_count": 10,
   "id": "2ec4beab-62dd-40f6-be4c-bd3460e5f852",
   "metadata": {},
   "outputs": [],
   "source": [
    "#3\n",
    "gradebook = [[subjects[0], grades[0]], [subjects[1], grades[1]], [subjects[2], grades[2]], [subjects[3], grades[3]]]"
   ]
  },
  {
   "cell_type": "code",
   "execution_count": 11,
   "id": "19a18947-4b27-4d0d-9cc9-4207154f7a30",
   "metadata": {},
   "outputs": [
    {
     "name": "stdout",
     "output_type": "stream",
     "text": [
      "[['physics', 98], ['calculus', 97], ['poetry', 85], ['history', 88]]\n"
     ]
    }
   ],
   "source": [
    "#4\n",
    "print(gradebook)"
   ]
  },
  {
   "cell_type": "code",
   "execution_count": 14,
   "id": "5e2f9938-ee59-4b0d-8284-0f2c4bfc3104",
   "metadata": {},
   "outputs": [],
   "source": [
    "#5\n",
    "gradebook.append([\"computer science\", 100])"
   ]
  },
  {
   "cell_type": "code",
   "execution_count": 15,
   "id": "a89a8353-e295-4b8a-b1fb-9becd634be16",
   "metadata": {},
   "outputs": [],
   "source": [
    "#6\n",
    "gradebook.append([\"visual arts\", 93])"
   ]
  },
  {
   "cell_type": "code",
   "execution_count": 38,
   "id": "cf123d66-1001-48b4-a456-54fa5a6c541f",
   "metadata": {},
   "outputs": [
    {
     "name": "stdout",
     "output_type": "stream",
     "text": [
      "[['physics', 98], ['calculus', 97], ['poetry', 85], ['history', 88], ['computer science', 100], ['visual arts', 98]]\n"
     ]
    }
   ],
   "source": [
    "#7\n",
    "gradebook[5][1] += 5\n",
    "print(gradebook)"
   ]
  },
  {
   "cell_type": "code",
   "execution_count": 45,
   "id": "dd4311af-e433-446d-afa6-5fd0a62eaa59",
   "metadata": {},
   "outputs": [
    {
     "name": "stdout",
     "output_type": "stream",
     "text": [
      "[['physics', 98], ['calculus', 97], ['poetry', 'Pass'], ['history', 88], ['computer science', 100], ['visual arts', 98]]\n"
     ]
    }
   ],
   "source": [
    "#8\n",
    "gradebook[2].remove(85)\n",
    "#9\n",
    "gradebook[2].append(\"Pass\")\n",
    "print(gradebook)"
   ]
  },
  {
   "cell_type": "code",
   "execution_count": 46,
   "id": "1ade4024-ff0f-4778-859e-977deefd91ed",
   "metadata": {},
   "outputs": [
    {
     "name": "stdout",
     "output_type": "stream",
     "text": [
      "[['politics', 80], ['latin', 96], ['dance', 97], ['architecture', 65], ['physics', 98], ['calculus', 97], ['poetry', 'Pass'], ['history', 88], ['computer science', 100], ['visual arts', 98]]\n"
     ]
    }
   ],
   "source": [
    "#10\n",
    "last_semester_gradebook = [[\"politics\", 80], [\"latin\", 96], [\"dance\", 97], [\"architecture\", 65]]\n",
    "full_gradebook = last_semester_gradebook + gradebook\n",
    "print(full_gradebook)"
   ]
  }
 ],
 "metadata": {
  "kernelspec": {
   "display_name": "Python 3 (ipykernel)",
   "language": "python",
   "name": "python3"
  },
  "language_info": {
   "codemirror_mode": {
    "name": "ipython",
    "version": 3
   },
   "file_extension": ".py",
   "mimetype": "text/x-python",
   "name": "python",
   "nbconvert_exporter": "python",
   "pygments_lexer": "ipython3",
   "version": "3.9.12"
  }
 },
 "nbformat": 4,
 "nbformat_minor": 5
}
