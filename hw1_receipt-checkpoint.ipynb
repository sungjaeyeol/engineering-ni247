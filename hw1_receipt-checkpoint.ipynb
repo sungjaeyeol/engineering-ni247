{
 "cells": [
  {
   "cell_type": "markdown",
   "id": "fb0cbc79-60bd-4998-86a3-5d0ebc6d1b04",
   "metadata": {},
   "source": [
    "# 과제 1: Receipts for Lovely Loveseats"
   ]
  },
  {
   "cell_type": "code",
   "execution_count": 11,
   "id": "39dfbcf8-bbeb-433a-bc39-5db596bd79eb",
   "metadata": {},
   "outputs": [],
   "source": [
    "#1\n",
    "lovely_loveseat_description = \"Lovely Loveseat. Tufted polyester blend on wood. 32 inches high x 40 inches wide x 30 inches deep. Red or white.\"\n",
    "#2\n",
    "lovely_loveseat_price = 254.00"
   ]
  },
  {
   "cell_type": "code",
   "execution_count": 12,
   "id": "1858feda-58d2-455f-b807-853775e35cff",
   "metadata": {},
   "outputs": [],
   "source": [
    "#3\n",
    "stylish_settee_description = \"Stylish Settee. Faux leather on birch. 29.50 inches high x 54.75 inches wide x 28 inches deep. Black.\"\n",
    "#4\n",
    "stylish_settee_price = 180.50"
   ]
  },
  {
   "cell_type": "code",
   "execution_count": 13,
   "id": "b79f471e-ee9b-414d-8aad-18cbcfc7e862",
   "metadata": {},
   "outputs": [],
   "source": [
    "#5\n",
    "luxurious_lamp_description = \"Luxurious Lamp. Glass and iron. 36 inches tall. Brown with cream shade.\"\n",
    "#6\n",
    "luxurious_lamp_price = 52.15"
   ]
  },
  {
   "cell_type": "code",
   "execution_count": 14,
   "id": "36e69769-4d2f-4707-9fb8-c4834bee1843",
   "metadata": {},
   "outputs": [],
   "source": [
    "#7\n",
    "sales_tax = 0.088"
   ]
  },
  {
   "cell_type": "code",
   "execution_count": 15,
   "id": "3d5caabd-f128-4a0b-90b6-eab07d2a1fb9",
   "metadata": {},
   "outputs": [],
   "source": [
    "#8\n",
    "customer_one_total = 0"
   ]
  },
  {
   "cell_type": "code",
   "execution_count": 16,
   "id": "61afc3ea-720d-4de3-9838-2decf231e561",
   "metadata": {},
   "outputs": [],
   "source": [
    "#9\n",
    "customer_one_itemization = \"\""
   ]
  },
  {
   "cell_type": "code",
   "execution_count": 17,
   "id": "a96df59d-ab55-49c7-85f4-e4ba5a4978b9",
   "metadata": {},
   "outputs": [],
   "source": [
    "#10\n",
    "customer_one_total = lovely_loveseat_price"
   ]
  },
  {
   "cell_type": "code",
   "execution_count": 18,
   "id": "f18d691c-e864-4271-b7a4-9f1b5414d37b",
   "metadata": {},
   "outputs": [],
   "source": [
    "#11\n",
    "customer_one_itemization = lovely_loveseat_description"
   ]
  },
  {
   "cell_type": "code",
   "execution_count": 19,
   "id": "b652f6ea-867a-4f7d-b1d2-13b3ccc1f13c",
   "metadata": {},
   "outputs": [],
   "source": [
    "#12\n",
    "customer_one_total += luxurious_lamp_price"
   ]
  },
  {
   "cell_type": "code",
   "execution_count": 20,
   "id": "c6680517-375a-4be0-8ff7-c4ffe9df265e",
   "metadata": {},
   "outputs": [],
   "source": [
    "#13\n",
    "customer_one_itemization += luxurious_lamp_description"
   ]
  },
  {
   "cell_type": "code",
   "execution_count": 21,
   "id": "e90681f1-ebda-4ec4-832c-95715a79a73e",
   "metadata": {},
   "outputs": [],
   "source": [
    "#14\n",
    "customer_one_tax = customer_one_total*sales_tax"
   ]
  },
  {
   "cell_type": "code",
   "execution_count": 22,
   "id": "70bde7d9-e4e4-4e5f-a5a7-e9ce70dd98f9",
   "metadata": {},
   "outputs": [],
   "source": [
    "#15\n",
    "customer_one_total += customer_one_tax"
   ]
  },
  {
   "cell_type": "code",
   "execution_count": 23,
   "id": "b6de7da6-b386-4f11-be48-a3c0793e4e65",
   "metadata": {},
   "outputs": [
    {
     "name": "stdout",
     "output_type": "stream",
     "text": [
      "Customer One Items:\n",
      "Lovely Loveseat. Tufted polyester blend on wood. 32 inches high x 40 inches wide x 30 inches deep. Red or white.Luxurious Lamp. Glass and iron. 36 inches tall. Brown with cream shade.\n",
      "Customer One Total:\n",
      "333.09119999999996\n"
     ]
    }
   ],
   "source": [
    "#16\n",
    "print(\"Customer One Items:\")\n",
    "#17\n",
    "print(customer_one_itemization)\n",
    "#18\n",
    "print(\"Customer One Total:\")\n",
    "#19\n",
    "print(customer_one_total)"
   ]
  }
 ],
 "metadata": {
  "kernelspec": {
   "display_name": "Python 3 (ipykernel)",
   "language": "python",
   "name": "python3"
  },
  "language_info": {
   "codemirror_mode": {
    "name": "ipython",
    "version": 3
   },
   "file_extension": ".py",
   "mimetype": "text/x-python",
   "name": "python",
   "nbconvert_exporter": "python",
   "pygments_lexer": "ipython3",
   "version": "3.9.12"
  }
 },
 "nbformat": 4,
 "nbformat_minor": 5
}
