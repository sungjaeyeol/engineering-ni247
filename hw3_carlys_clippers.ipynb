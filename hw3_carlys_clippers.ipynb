{
 "cells": [
  {
   "cell_type": "code",
   "execution_count": 3,
   "id": "1242f9c5-af88-460f-a14c-e9bd708d7500",
   "metadata": {},
   "outputs": [],
   "source": [
    "hairstyles = [\"bouffant\", \"pixie\", \"dreadlocks\", \"crew\", \"bowl\", \"bob\", \"mohawk\", \"flattop\"]"
   ]
  },
  {
   "cell_type": "code",
   "execution_count": 4,
   "id": "57eed210-dcf1-414b-be3a-8a5921af86e4",
   "metadata": {},
   "outputs": [],
   "source": [
    "prices = [30, 25, 40, 20, 20, 35, 50, 35]"
   ]
  },
  {
   "cell_type": "code",
   "execution_count": 5,
   "id": "324745d4-d1b0-4bae-b8dd-06d4880ac614",
   "metadata": {},
   "outputs": [],
   "source": [
    "last_week = [2, 3, 5, 8, 4, 4, 6, 2]"
   ]
  },
  {
   "cell_type": "code",
   "execution_count": 25,
   "id": "88174d17-b035-4f46-99c2-223012efe128",
   "metadata": {},
   "outputs": [
    {
     "name": "stdout",
     "output_type": "stream",
     "text": [
      "Average price is 31.875\n"
     ]
    }
   ],
   "source": [
    "#1\n",
    "total_price = 0\n",
    "#2\n",
    "for i in range(len(prices)) :\n",
    "    total_price += prices[i]\n",
    "#3\n",
    "average_price = total_price/len(prices)\n",
    "#4\n",
    "print(\"Average price is\", average_price)"
   ]
  },
  {
   "cell_type": "code",
   "execution_count": 27,
   "id": "3f91e74f-9210-434b-aaad-ef9ea41de5cf",
   "metadata": {},
   "outputs": [
    {
     "name": "stdout",
     "output_type": "stream",
     "text": [
      "[25, 20, 35, 15, 15, 30, 45, 30]\n"
     ]
    }
   ],
   "source": [
    "#5\n",
    "new_prices = [prices[i] -5 for i in range(len(prices))]\n",
    "#6\n",
    "print(new_prices)"
   ]
  },
  {
   "cell_type": "code",
   "execution_count": 31,
   "id": "076ef184-d3cf-44e6-939c-4af4d5bc3489",
   "metadata": {},
   "outputs": [
    {
     "name": "stdout",
     "output_type": "stream",
     "text": [
      "1085\n",
      "Average daily revenue is 155.0\n"
     ]
    }
   ],
   "source": [
    "#7\n",
    "total_revenue = 0\n",
    "#8\n",
    "for i in range(len(hairstyles)) :\n",
    "    #9\n",
    "    total_revenue += prices[i] * last_week[i]\n",
    "#10\n",
    "print(total_revenue)\n",
    "#11\n",
    "average_daily_revenue = total_revenue/7\n",
    "print(\"Average daily revenue is\", average_daily_revenue)"
   ]
  },
  {
   "cell_type": "code",
   "execution_count": 32,
   "id": "6f40a258-4e42-401d-bf97-5e2ce18bb09e",
   "metadata": {},
   "outputs": [],
   "source": [
    "#12\n",
    "cuts_under_30 = [hairstyles[i] for i in range(len(new_prices)) if new_prices[i] < 30]"
   ]
  },
  {
   "cell_type": "code",
   "execution_count": 33,
   "id": "5fc691fe-4abc-4bfe-b1ab-bcefbaa5a8f1",
   "metadata": {},
   "outputs": [
    {
     "name": "stdout",
     "output_type": "stream",
     "text": [
      "['bouffant', 'pixie', 'crew', 'bowl']\n"
     ]
    }
   ],
   "source": [
    "#13\n",
    "print(cuts_under_30)"
   ]
  }
 ],
 "metadata": {
  "kernelspec": {
   "display_name": "Python 3 (ipykernel)",
   "language": "python",
   "name": "python3"
  },
  "language_info": {
   "codemirror_mode": {
    "name": "ipython",
    "version": 3
   },
   "file_extension": ".py",
   "mimetype": "text/x-python",
   "name": "python",
   "nbconvert_exporter": "python",
   "pygments_lexer": "ipython3",
   "version": "3.9.12"
  }
 },
 "nbformat": 4,
 "nbformat_minor": 5
}
